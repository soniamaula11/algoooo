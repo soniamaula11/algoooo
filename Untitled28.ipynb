{
 "cells": [
  {
   "cell_type": "code",
   "execution_count": 1,
   "id": "a6b8cf72-85ea-43ba-83aa-edfb5e2564bf",
   "metadata": {},
   "outputs": [
    {
     "name": "stdout",
     "output_type": "stream",
     "text": [
      "Berikut DataFrame nya:\n",
      "             Negara       Ibu Kota    Benua   Luas  Populasi\n",
      "0         Indonesia        Jakarta     Asia   1905       264\n",
      "1            Jepang          Tokyo     Asia    377       126\n",
      "2             India      New Delhi     Asia   3287      1353\n",
      "3             China        Beijing     Asia   9597      1412\n",
      "4   Amerika Serikat  Washington DC  Amerika   9834       329\n",
      "5            Brazil       Brasilia  Amerika   8515       212\n",
      "6             Rusia         Moskow     Asia  17098       146\n",
      "7           Meksiko    Mexico City  Amerika   1964       126\n",
      "8           Nigeria          Abuja   Afrika    923       206\n",
      "9          Aljazair       Aljazair   Afrika   2381        43\n",
      "10           Jerman         Berlin    Eropa    357        83\n",
      "11          Inggris         London    Eropa    243        67\n",
      "\n",
      "Mean Benua nya:\n",
      "           Luas    Populasi\n",
      "Benua                      \n",
      "Afrika   1652.0  124.500000\n",
      "Amerika  6771.0  222.333333\n",
      "Asia     6452.8  660.200000\n",
      "Eropa     300.0   75.000000\n",
      "\n",
      "Standard Deviasi nya:\n",
      "                Luas    Populasi\n",
      "Benua                           \n",
      "Afrika   1030.961687  115.258405\n",
      "Amerika  4214.899406  101.893735\n",
      "Asia     6906.996395  661.800725\n",
      "Eropa      80.610173   11.313708\n",
      "\n",
      "Jadi\n"
     ]
    }
   ],
   "source": [
    "import pandas as pd\n",
    "data = {\n",
    "    \"Negara\": [\"Indonesia\", \"Jepang\", \"India\", \"China\", \"Amerika Serikat\", \"Brazil\", \"Rusia\", \"Meksiko\", \n",
    "               \"Nigeria\", \"Aljazair\", \"Jerman\", \"Inggris\"],\n",
    "    \"Ibu Kota\": [\"Jakarta\", \"Tokyo\", \"New Delhi\", \"Beijing\", \"Washington DC\", \"Brasilia\", \"Moskow\", \n",
    "                 \"Mexico City\", \"Abuja\", \"Aljazair\", \"Berlin\", \"London\"],\n",
    "    \"Benua\": [\"Asia\", \"Asia\", \"Asia\", \"Asia\", \"Amerika\", \"Amerika\", \"Asia\", \"Amerika\", \n",
    "              \"Afrika\", \"Afrika\", \"Eropa\", \"Eropa\"],\n",
    "    \"Luas\": [1905, 377, 3287, 9597, 9834, 8515, 17098, 1964, 923, 2381, 357, 243],\n",
    "    \"Populasi\": [264, 126, 1353, 1412, 329, 212, 146, 126, 206, 43, 83, 67]\n",
    "}\n",
    "\n",
    "df = pd.DataFrame(data)\n",
    "print(\"Berikut DataFrame nya:\")\n",
    "print(df)\n",
    "df[\"Luas\"] = pd.to_numeric(df[\"Luas\"], errors=\"coerce\")\n",
    "df[\"Populasi\"] = pd.to_numeric(df[\"Populasi\"], errors=\"coerce\")\n",
    "mean_per_benua = df.groupby(\"Benua\")[[\"Luas\", \"Populasi\"]].mean()\n",
    "print(\"\\nMean Benua nya:\")\n",
    "print(mean_per_benua)\n",
    "std_per_benua = df.groupby(\"Benua\")[[\"Luas\", \"Populasi\"]].std()\n",
    "print(\"\\nStandard Deviasi nya:\")\n",
    "print(std_per_benua)\n",
    "mean_per_benua.to_csv(\"NegaraMean.csv\")\n",
    "std_per_benua.to_csv(\"NegaraStandarDeviasi.csv\")\n",
    "print(\"\\nJadi\")"
   ]
  },
  {
   "cell_type": "code",
   "execution_count": null,
   "id": "fb8d6aed-f01d-44e7-90f8-89521dd57d2c",
   "metadata": {},
   "outputs": [],
   "source": []
  }
 ],
 "metadata": {
  "kernelspec": {
   "display_name": "Python 3 (ipykernel)",
   "language": "python",
   "name": "python3"
  },
  "language_info": {
   "codemirror_mode": {
    "name": "ipython",
    "version": 3
   },
   "file_extension": ".py",
   "mimetype": "text/x-python",
   "name": "python",
   "nbconvert_exporter": "python",
   "pygments_lexer": "ipython3",
   "version": "3.12.4"
  }
 },
 "nbformat": 4,
 "nbformat_minor": 5
}
