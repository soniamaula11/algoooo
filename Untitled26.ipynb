{
 "cells": [
  {
   "cell_type": "code",
   "execution_count": 7,
   "id": "3daebfaa-9d2b-4e25-8cdb-1d2a8906f49a",
   "metadata": {},
   "outputs": [
    {
     "name": "stdout",
     "output_type": "stream",
     "text": [
      "            Negara       Ibu Kota    Benua  Luas  Populasi\n",
      "0        Indonesia        Jakarta     Asia  1905       264\n",
      "1           Jepang          Tokyo     Asia   377       143\n",
      "2            India      New Delhi     Asia  3287      1252\n",
      "3            China        Beijing     Asia  9597      1357\n",
      "4  Amerika Serikat  Washington DC  Amerika  9834       329\n",
      "           Luas    Populasi\n",
      "Benua                      \n",
      "Afrika   1652.0  121.500000\n",
      "Amerika  6771.0  221.666667\n",
      "Asia     6452.8  632.400000\n",
      "Eropa     299.5   74.500000\n",
      "                Luas    Populasi\n",
      "Benua                           \n",
      "Afrika   1030.961687  111.015765\n",
      "Amerika  4214.899406  102.001634\n",
      "Asia     6906.996395  616.596546\n",
      "Eropa      81.317280   12.020815\n"
     ]
    }
   ],
   "source": [
    "import pandas as pd\n",
    "df = pd.read_csv(\"Negara.csv\")\n",
    "mean = df.groupby(['Benua']).mean(numeric_only=True)\n",
    "std = df.groupby(['Benua']).std(numeric_only=True)\n",
    "print(df.head())\n",
    "print(mean)\n",
    "print(std)"
   ]
  },
  {
   "cell_type": "code",
   "execution_count": null,
   "id": "d83f2042-8f9d-4807-80c8-635ee473ac95",
   "metadata": {},
   "outputs": [],
   "source": []
  }
 ],
 "metadata": {
  "kernelspec": {
   "display_name": "Python 3 (ipykernel)",
   "language": "python",
   "name": "python3"
  },
  "language_info": {
   "codemirror_mode": {
    "name": "ipython",
    "version": 3
   },
   "file_extension": ".py",
   "mimetype": "text/x-python",
   "name": "python",
   "nbconvert_exporter": "python",
   "pygments_lexer": "ipython3",
   "version": "3.12.4"
  }
 },
 "nbformat": 4,
 "nbformat_minor": 5
}
